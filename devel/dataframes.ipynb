{
 "cells": [
  {
   "cell_type": "code",
   "execution_count": 23,
   "metadata": {},
   "outputs": [
    {
     "data": {
      "text/plain": [
       "1.047909333"
      ]
     },
     "execution_count": 23,
     "metadata": {},
     "output_type": "execute_result"
    }
   ],
   "source": [
    "\n",
    "@elapsed using DataFrames\n",
    "\n"
   ]
  },
  {
   "cell_type": "code",
   "execution_count": 24,
   "metadata": {},
   "outputs": [
    {
     "data": {
      "text/plain": [
       "0.002354424"
      ]
     },
     "execution_count": 24,
     "metadata": {},
     "output_type": "execute_result"
    }
   ],
   "source": [
    "\n",
    "@elapsed using CSV"
   ]
  },
  {
   "cell_type": "code",
   "execution_count": 25,
   "metadata": {},
   "outputs": [
    {
     "data": {
      "text/plain": [
       "DataFrame"
      ]
     },
     "metadata": {},
     "output_type": "display_data"
    },
    {
     "data": {
      "text/html": [
       "<table class=\"data-frame\"><thead><tr><th></th><th>datetime</th><th>block size</th><th>comment</th><th>time</th></tr><tr><th></th><th>String</th><th>Int64</th><th>String</th><th>Float64</th></tr></thead><tbody><p>6 rows × 4 columns</p><tr><th>1</th><td>2019-04-26 12:26:10</td><td>16</td><td>computed</td><td>126.29</td></tr><tr><th>2</th><td>2019-04-26 12:28:16</td><td>32</td><td>computed</td><td>111.373</td></tr><tr><th>3</th><td>2019-04-26 12:30:08</td><td>64</td><td>computed</td><td>101.213</td></tr><tr><th>4</th><td>2019-04-26 12:31:49</td><td>16</td><td>memory and file</td><td>9.427</td></tr><tr><th>5</th><td>2019-04-26 12:31:58</td><td>32</td><td>memory and file</td><td>10.253</td></tr><tr><th>6</th><td>2019-04-26 12:32:09</td><td>64</td><td>memory and file</td><td>10.16</td></tr></tbody></table>"
      ],
      "text/latex": [
       "\\begin{tabular}{r|cccc}\n",
       "\t& datetime & block size & comment & time\\\\\n",
       "\t\\hline\n",
       "\t& String & Int64 & String & Float64\\\\\n",
       "\t\\hline\n",
       "\t1 & 2019-04-26 12:26:10 & 16 & computed & 126.29 \\\\\n",
       "\t2 & 2019-04-26 12:28:16 & 32 & computed & 111.373 \\\\\n",
       "\t3 & 2019-04-26 12:30:08 & 64 & computed & 101.213 \\\\\n",
       "\t4 & 2019-04-26 12:31:49 & 16 & memory and file & 9.427 \\\\\n",
       "\t5 & 2019-04-26 12:31:58 & 32 & memory and file & 10.253 \\\\\n",
       "\t6 & 2019-04-26 12:32:09 & 64 & memory and file & 10.16 \\\\\n",
       "\\end{tabular}\n"
      ],
      "text/plain": [
       "6×4 DataFrame\n",
       "│ Row │ datetime            │ block size │ comment         │ time    │\n",
       "│     │ \u001b[90mString\u001b[39m              │ \u001b[90mInt64\u001b[39m      │ \u001b[90mString\u001b[39m          │ \u001b[90mFloat64\u001b[39m │\n",
       "├─────┼─────────────────────┼────────────┼─────────────────┼─────────┤\n",
       "│ 1   │ 2019-04-26 12:26:10 │ 16         │ computed        │ 126.29  │\n",
       "│ 2   │ 2019-04-26 12:28:16 │ 32         │ computed        │ 111.373 │\n",
       "│ 3   │ 2019-04-26 12:30:08 │ 64         │ computed        │ 101.213 │\n",
       "│ 4   │ 2019-04-26 12:31:49 │ 16         │ memory and file │ 9.427   │\n",
       "│ 5   │ 2019-04-26 12:31:58 │ 32         │ memory and file │ 10.253  │\n",
       "│ 6   │ 2019-04-26 12:32:09 │ 64         │ memory and file │ 10.16   │"
      ]
     },
     "metadata": {},
     "output_type": "display_data"
    }
   ],
   "source": [
    "to_add = Dict()\n",
    "to_add[\"block size\"] = 6\n",
    "to_add[\"new0\"] = \"new\"\n",
    "\n",
    "tbl = CSV.read(\"../data2.csv\")\n",
    "display(typeof(tbl))\n",
    "display(tbl)"
   ]
  },
  {
   "cell_type": "code",
   "execution_count": 26,
   "metadata": {},
   "outputs": [
    {
     "data": {
      "text/html": [
       "<table class=\"data-frame\"><thead><tr><th></th><th>datetime</th><th>block size</th><th>comment</th><th>time</th></tr><tr><th></th><th>String</th><th>Int64</th><th>String</th><th>Float64</th></tr></thead><tbody><p>6 rows × 4 columns</p><tr><th>1</th><td>2019-04-26 12:26:10</td><td>16</td><td>computed</td><td>126.29</td></tr><tr><th>2</th><td>2019-04-26 12:28:16</td><td>32</td><td>computed</td><td>111.373</td></tr><tr><th>3</th><td>2019-04-26 12:30:08</td><td>64</td><td>computed</td><td>101.213</td></tr><tr><th>4</th><td>2019-04-26 12:31:49</td><td>16</td><td>memory and file</td><td>9.427</td></tr><tr><th>5</th><td>2019-04-26 12:31:58</td><td>32</td><td>memory and file</td><td>10.253</td></tr><tr><th>6</th><td>2019-04-26 12:32:09</td><td>64</td><td>memory and file</td><td>10.16</td></tr></tbody></table>"
      ],
      "text/latex": [
       "\\begin{tabular}{r|cccc}\n",
       "\t& datetime & block size & comment & time\\\\\n",
       "\t\\hline\n",
       "\t& String & Int64 & String & Float64\\\\\n",
       "\t\\hline\n",
       "\t1 & 2019-04-26 12:26:10 & 16 & computed & 126.29 \\\\\n",
       "\t2 & 2019-04-26 12:28:16 & 32 & computed & 111.373 \\\\\n",
       "\t3 & 2019-04-26 12:30:08 & 64 & computed & 101.213 \\\\\n",
       "\t4 & 2019-04-26 12:31:49 & 16 & memory and file & 9.427 \\\\\n",
       "\t5 & 2019-04-26 12:31:58 & 32 & memory and file & 10.253 \\\\\n",
       "\t6 & 2019-04-26 12:32:09 & 64 & memory and file & 10.16 \\\\\n",
       "\\end{tabular}\n"
      ],
      "text/plain": [
       "6×4 DataFrame\n",
       "│ Row │ datetime            │ block size │ comment         │ time    │\n",
       "│     │ \u001b[90mString\u001b[39m              │ \u001b[90mInt64\u001b[39m      │ \u001b[90mString\u001b[39m          │ \u001b[90mFloat64\u001b[39m │\n",
       "├─────┼─────────────────────┼────────────┼─────────────────┼─────────┤\n",
       "│ 1   │ 2019-04-26 12:26:10 │ 16         │ computed        │ 126.29  │\n",
       "│ 2   │ 2019-04-26 12:28:16 │ 32         │ computed        │ 111.373 │\n",
       "│ 3   │ 2019-04-26 12:30:08 │ 64         │ computed        │ 101.213 │\n",
       "│ 4   │ 2019-04-26 12:31:49 │ 16         │ memory and file │ 9.427   │\n",
       "│ 5   │ 2019-04-26 12:31:58 │ 32         │ memory and file │ 10.253  │\n",
       "│ 6   │ 2019-04-26 12:32:09 │ 64         │ memory and file │ 10.16   │"
      ]
     },
     "execution_count": 26,
     "metadata": {},
     "output_type": "execute_result"
    }
   ],
   "source": [
    "tbl = DataFrame(tbl)"
   ]
  },
  {
   "cell_type": "code",
   "execution_count": 27,
   "metadata": {},
   "outputs": [
    {
     "data": {
      "text/plain": [
       "4-element Array{Symbol,1}:\n",
       " :datetime           \n",
       " Symbol(\"block size\")\n",
       " :comment            \n",
       " :time               "
      ]
     },
     "execution_count": 27,
     "metadata": {},
     "output_type": "execute_result"
    }
   ],
   "source": [
    "names(tbl)"
   ]
  },
  {
   "cell_type": "markdown",
   "metadata": {},
   "source": [
    "# Add missing columns"
   ]
  },
  {
   "cell_type": "code",
   "execution_count": 28,
   "metadata": {},
   "outputs": [
    {
     "data": {
      "text/plain": [
       "(6, 4)"
      ]
     },
     "execution_count": 28,
     "metadata": {},
     "output_type": "execute_result"
    }
   ],
   "source": [
    "size(tbl)"
   ]
  },
  {
   "cell_type": "code",
   "execution_count": 53,
   "metadata": {},
   "outputs": [
    {
     "data": {
      "text/plain": [
       "add_empty_col! (generic function with 1 method)"
      ]
     },
     "execution_count": 53,
     "metadata": {},
     "output_type": "execute_result"
    }
   ],
   "source": [
    "function prepare_empty_col(sz, tp=Any)\n",
    "    arr = Array{tp, 1}(undef, sz)\n",
    "    for i in 1:sz\n",
    "        arr[i] = \"NA\"\n",
    "#         arr[i] = nothing\n",
    "    end\n",
    "    return arr\n",
    "end\n",
    "\n",
    "function add_empty_col!(tbl, col_name)\n",
    "#     col = prepare_empty_col(size(tbl, 1), String)\n",
    "    col = prepare_empty_col(size(tbl, 1))\n",
    "#     println(col)\n",
    "    if typeof(col_name) == Symbol\n",
    "        column_name = col_name\n",
    "    else\n",
    "        column_name = Symbol(col_name)\n",
    "    end\n",
    "#     print(column_name)\n",
    "#     tbl[column_name] = 1:size(tbl,1)\n",
    "    tbl[column_name] = col\n",
    "#     display(tbl)\n",
    "    return tbl\n",
    "    \n",
    "end"
   ]
  },
  {
   "cell_type": "code",
   "execution_count": 30,
   "metadata": {},
   "outputs": [],
   "source": [
    "# add_empty_col!(tbl, \"pok u s\")"
   ]
  },
  {
   "cell_type": "code",
   "execution_count": 31,
   "metadata": {},
   "outputs": [
    {
     "data": {
      "text/plain": [
       "add_missing_cols! (generic function with 1 method)"
      ]
     },
     "execution_count": 31,
     "metadata": {},
     "output_type": "execute_result"
    }
   ],
   "source": [
    "function add_missing_cols!(tbl, to_add)\n",
    "        \n",
    "    nms = [String(name) for name in names(tbl)]\n",
    "\n",
    "\n",
    "    for key in keys(to_add)\n",
    "\n",
    "        if key in nms\n",
    "#             println(\"key '$key' exists\")\n",
    "        else\n",
    "            add_empty_col!(tbl, key)\n",
    "        end\n",
    "\n",
    "    end\n",
    "    return tbl\n",
    "end"
   ]
  },
  {
   "cell_type": "code",
   "execution_count": 32,
   "metadata": {},
   "outputs": [
    {
     "data": {
      "text/html": [
       "<table class=\"data-frame\"><thead><tr><th></th><th>datetime</th><th>block size</th><th>comment</th><th>time</th><th>new0</th></tr><tr><th></th><th>String</th><th>Int64</th><th>String</th><th>Float64</th><th>Any</th></tr></thead><tbody><p>6 rows × 5 columns</p><tr><th>1</th><td>2019-04-26 12:26:10</td><td>16</td><td>computed</td><td>126.29</td><td></td></tr><tr><th>2</th><td>2019-04-26 12:28:16</td><td>32</td><td>computed</td><td>111.373</td><td></td></tr><tr><th>3</th><td>2019-04-26 12:30:08</td><td>64</td><td>computed</td><td>101.213</td><td></td></tr><tr><th>4</th><td>2019-04-26 12:31:49</td><td>16</td><td>memory and file</td><td>9.427</td><td></td></tr><tr><th>5</th><td>2019-04-26 12:31:58</td><td>32</td><td>memory and file</td><td>10.253</td><td></td></tr><tr><th>6</th><td>2019-04-26 12:32:09</td><td>64</td><td>memory and file</td><td>10.16</td><td></td></tr></tbody></table>"
      ],
      "text/latex": [
       "\\begin{tabular}{r|ccccc}\n",
       "\t& datetime & block size & comment & time & new0\\\\\n",
       "\t\\hline\n",
       "\t& String & Int64 & String & Float64 & Any\\\\\n",
       "\t\\hline\n",
       "\t1 & 2019-04-26 12:26:10 & 16 & computed & 126.29 &  \\\\\n",
       "\t2 & 2019-04-26 12:28:16 & 32 & computed & 111.373 &  \\\\\n",
       "\t3 & 2019-04-26 12:30:08 & 64 & computed & 101.213 &  \\\\\n",
       "\t4 & 2019-04-26 12:31:49 & 16 & memory and file & 9.427 &  \\\\\n",
       "\t5 & 2019-04-26 12:31:58 & 32 & memory and file & 10.253 &  \\\\\n",
       "\t6 & 2019-04-26 12:32:09 & 64 & memory and file & 10.16 &  \\\\\n",
       "\\end{tabular}\n"
      ],
      "text/plain": [
       "6×5 DataFrame\n",
       "│ Row │ datetime            │ block size │ comment         │ time    │ new0 │\n",
       "│     │ \u001b[90mString\u001b[39m              │ \u001b[90mInt64\u001b[39m      │ \u001b[90mString\u001b[39m          │ \u001b[90mFloat64\u001b[39m │ \u001b[90mAny\u001b[39m  │\n",
       "├─────┼─────────────────────┼────────────┼─────────────────┼─────────┼──────┤\n",
       "│ 1   │ 2019-04-26 12:26:10 │ 16         │ computed        │ 126.29  │      │\n",
       "│ 2   │ 2019-04-26 12:28:16 │ 32         │ computed        │ 111.373 │      │\n",
       "│ 3   │ 2019-04-26 12:30:08 │ 64         │ computed        │ 101.213 │      │\n",
       "│ 4   │ 2019-04-26 12:31:49 │ 16         │ memory and file │ 9.427   │      │\n",
       "│ 5   │ 2019-04-26 12:31:58 │ 32         │ memory and file │ 10.253  │      │\n",
       "│ 6   │ 2019-04-26 12:32:09 │ 64         │ memory and file │ 10.16   │      │"
      ]
     },
     "execution_count": 32,
     "metadata": {},
     "output_type": "execute_result"
    }
   ],
   "source": [
    "add_missing_cols!(tbl, to_add)"
   ]
  },
  {
   "cell_type": "markdown",
   "metadata": {},
   "source": [
    "# Add row"
   ]
  },
  {
   "cell_type": "code",
   "execution_count": 46,
   "metadata": {},
   "outputs": [
    {
     "data": {
      "text/plain": [
       "prepare_empty_row (generic function with 1 method)"
      ]
     },
     "execution_count": 46,
     "metadata": {},
     "output_type": "execute_result"
    }
   ],
   "source": [
    "\n",
    "# nms = [String(name) for name in names(tbl)]\n",
    "function prepare_empty_row(tbl)\n",
    "    new_row = Dict()\n",
    "    for nm in names(tbl)\n",
    "        if eltype(tbl[nm]) <: Number\n",
    "#             println(\"$nm is subtype Number\")\n",
    "            new_row[nm] = 0\n",
    "        elseif eltype(tbl[nm]) == String\n",
    "#             println(\"$nm is String\")\n",
    "            new_row[nm] = \"\"\n",
    "        else\n",
    "            new_row[nm] = nothing\n",
    "\n",
    "        end\n",
    "    end\n",
    "        \n",
    "    return new_row\n",
    "end"
   ]
  },
  {
   "cell_type": "code",
   "execution_count": 34,
   "metadata": {},
   "outputs": [
    {
     "name": "stdout",
     "output_type": "stream",
     "text": [
      "datetime is String\n",
      "block size is subtype Number\n",
      "comment is String\n",
      "time is subtype Number\n"
     ]
    },
    {
     "data": {
      "text/plain": [
       "Dict{Any,Any} with 5 entries:\n",
       "  :time                => 0\n",
       "  :new0                => nothing\n",
       "  :datetime            => \"\"\n",
       "  :comment             => \"\"\n",
       "  Symbol(\"block size\") => 0"
      ]
     },
     "execution_count": 34,
     "metadata": {},
     "output_type": "execute_result"
    }
   ],
   "source": [
    "new_row = prepare_empty_row(tbl)"
   ]
  },
  {
   "cell_type": "code",
   "execution_count": 35,
   "metadata": {},
   "outputs": [
    {
     "data": {
      "text/plain": [
       "dict_string_keys_to_symbols (generic function with 1 method)"
      ]
     },
     "execution_count": 35,
     "metadata": {},
     "output_type": "execute_result"
    }
   ],
   "source": [
    "function dict_string_keys_to_symbols(to_add)\n",
    "    new_to_add = Dict()\n",
    "    for (key, val) in to_add\n",
    "    #     println(key)\n",
    "        new_to_add[Symbol(key)] = val\n",
    "    end\n",
    "    return new_to_add\n",
    "end"
   ]
  },
  {
   "cell_type": "code",
   "execution_count": 36,
   "metadata": {},
   "outputs": [
    {
     "data": {
      "text/html": [
       "<table class=\"data-frame\"><thead><tr><th></th><th>datetime</th><th>block size</th><th>comment</th><th>time</th><th>new0</th></tr><tr><th></th><th>String</th><th>Int64</th><th>String</th><th>Float64</th><th>Any</th></tr></thead><tbody><p>7 rows × 5 columns</p><tr><th>1</th><td>2019-04-26 12:26:10</td><td>16</td><td>computed</td><td>126.29</td><td></td></tr><tr><th>2</th><td>2019-04-26 12:28:16</td><td>32</td><td>computed</td><td>111.373</td><td></td></tr><tr><th>3</th><td>2019-04-26 12:30:08</td><td>64</td><td>computed</td><td>101.213</td><td></td></tr><tr><th>4</th><td>2019-04-26 12:31:49</td><td>16</td><td>memory and file</td><td>9.427</td><td></td></tr><tr><th>5</th><td>2019-04-26 12:31:58</td><td>32</td><td>memory and file</td><td>10.253</td><td></td></tr><tr><th>6</th><td>2019-04-26 12:32:09</td><td>64</td><td>memory and file</td><td>10.16</td><td></td></tr><tr><th>7</th><td></td><td>6</td><td></td><td>0.0</td><td>new</td></tr></tbody></table>"
      ],
      "text/latex": [
       "\\begin{tabular}{r|ccccc}\n",
       "\t& datetime & block size & comment & time & new0\\\\\n",
       "\t\\hline\n",
       "\t& String & Int64 & String & Float64 & Any\\\\\n",
       "\t\\hline\n",
       "\t1 & 2019-04-26 12:26:10 & 16 & computed & 126.29 &  \\\\\n",
       "\t2 & 2019-04-26 12:28:16 & 32 & computed & 111.373 &  \\\\\n",
       "\t3 & 2019-04-26 12:30:08 & 64 & computed & 101.213 &  \\\\\n",
       "\t4 & 2019-04-26 12:31:49 & 16 & memory and file & 9.427 &  \\\\\n",
       "\t5 & 2019-04-26 12:31:58 & 32 & memory and file & 10.253 &  \\\\\n",
       "\t6 & 2019-04-26 12:32:09 & 64 & memory and file & 10.16 &  \\\\\n",
       "\t7 &  & 6 &  & 0.0 & new \\\\\n",
       "\\end{tabular}\n"
      ],
      "text/plain": [
       "7×5 DataFrame\n",
       "│ Row │ datetime            │ block size │ comment         │ time    │ new0 │\n",
       "│     │ \u001b[90mString\u001b[39m              │ \u001b[90mInt64\u001b[39m      │ \u001b[90mString\u001b[39m          │ \u001b[90mFloat64\u001b[39m │ \u001b[90mAny\u001b[39m  │\n",
       "├─────┼─────────────────────┼────────────┼─────────────────┼─────────┼──────┤\n",
       "│ 1   │ 2019-04-26 12:26:10 │ 16         │ computed        │ 126.29  │      │\n",
       "│ 2   │ 2019-04-26 12:28:16 │ 32         │ computed        │ 111.373 │      │\n",
       "│ 3   │ 2019-04-26 12:30:08 │ 64         │ computed        │ 101.213 │      │\n",
       "│ 4   │ 2019-04-26 12:31:49 │ 16         │ memory and file │ 9.427   │      │\n",
       "│ 5   │ 2019-04-26 12:31:58 │ 32         │ memory and file │ 10.253  │      │\n",
       "│ 6   │ 2019-04-26 12:32:09 │ 64         │ memory and file │ 10.16   │      │\n",
       "│ 7   │                     │ 6          │                 │ 0.0     │ new  │"
      ]
     },
     "execution_count": 36,
     "metadata": {},
     "output_type": "execute_result"
    }
   ],
   "source": [
    "new_to_add = dict_string_keys_to_symbols(to_add)\n",
    "merge!(new_row, new_to_add)\n",
    "push!(tbl, new_row)"
   ]
  },
  {
   "cell_type": "code",
   "execution_count": 37,
   "metadata": {},
   "outputs": [
    {
     "data": {
      "text/html": [
       "<table class=\"data-frame\"><thead><tr><th></th><th>datetime</th><th>block size</th><th>comment</th><th>time</th><th>new0</th></tr><tr><th></th><th>String</th><th>Int64</th><th>String</th><th>Float64</th><th>Any</th></tr></thead><tbody><p>7 rows × 5 columns</p><tr><th>1</th><td>2019-04-26 12:26:10</td><td>16</td><td>computed</td><td>126.29</td><td></td></tr><tr><th>2</th><td>2019-04-26 12:28:16</td><td>32</td><td>computed</td><td>111.373</td><td></td></tr><tr><th>3</th><td>2019-04-26 12:30:08</td><td>64</td><td>computed</td><td>101.213</td><td></td></tr><tr><th>4</th><td>2019-04-26 12:31:49</td><td>16</td><td>memory and file</td><td>9.427</td><td></td></tr><tr><th>5</th><td>2019-04-26 12:31:58</td><td>32</td><td>memory and file</td><td>10.253</td><td></td></tr><tr><th>6</th><td>2019-04-26 12:32:09</td><td>64</td><td>memory and file</td><td>10.16</td><td></td></tr><tr><th>7</th><td></td><td>6</td><td></td><td>0.0</td><td>new</td></tr></tbody></table>"
      ],
      "text/latex": [
       "\\begin{tabular}{r|ccccc}\n",
       "\t& datetime & block size & comment & time & new0\\\\\n",
       "\t\\hline\n",
       "\t& String & Int64 & String & Float64 & Any\\\\\n",
       "\t\\hline\n",
       "\t1 & 2019-04-26 12:26:10 & 16 & computed & 126.29 &  \\\\\n",
       "\t2 & 2019-04-26 12:28:16 & 32 & computed & 111.373 &  \\\\\n",
       "\t3 & 2019-04-26 12:30:08 & 64 & computed & 101.213 &  \\\\\n",
       "\t4 & 2019-04-26 12:31:49 & 16 & memory and file & 9.427 &  \\\\\n",
       "\t5 & 2019-04-26 12:31:58 & 32 & memory and file & 10.253 &  \\\\\n",
       "\t6 & 2019-04-26 12:32:09 & 64 & memory and file & 10.16 &  \\\\\n",
       "\t7 &  & 6 &  & 0.0 & new \\\\\n",
       "\\end{tabular}\n"
      ],
      "text/plain": [
       "7×5 DataFrame\n",
       "│ Row │ datetime            │ block size │ comment         │ time    │ new0 │\n",
       "│     │ \u001b[90mString\u001b[39m              │ \u001b[90mInt64\u001b[39m      │ \u001b[90mString\u001b[39m          │ \u001b[90mFloat64\u001b[39m │ \u001b[90mAny\u001b[39m  │\n",
       "├─────┼─────────────────────┼────────────┼─────────────────┼─────────┼──────┤\n",
       "│ 1   │ 2019-04-26 12:26:10 │ 16         │ computed        │ 126.29  │      │\n",
       "│ 2   │ 2019-04-26 12:28:16 │ 32         │ computed        │ 111.373 │      │\n",
       "│ 3   │ 2019-04-26 12:30:08 │ 64         │ computed        │ 101.213 │      │\n",
       "│ 4   │ 2019-04-26 12:31:49 │ 16         │ memory and file │ 9.427   │      │\n",
       "│ 5   │ 2019-04-26 12:31:58 │ 32         │ memory and file │ 10.253  │      │\n",
       "│ 6   │ 2019-04-26 12:32:09 │ 64         │ memory and file │ 10.16   │      │\n",
       "│ 7   │                     │ 6          │                 │ 0.0     │ new  │"
      ]
     },
     "execution_count": 37,
     "metadata": {},
     "output_type": "execute_result"
    }
   ],
   "source": [
    "tbl"
   ]
  },
  {
   "cell_type": "code",
   "execution_count": 38,
   "metadata": {},
   "outputs": [
    {
     "data": {
      "text/html": [
       "<table class=\"data-frame\"><thead><tr><th></th><th>datetime</th><th>block size</th><th>comment</th><th>time</th><th>new0</th></tr><tr><th></th><th>String</th><th>Int64</th><th>String</th><th>Float64</th><th>Any</th></tr></thead><tbody><p>8 rows × 5 columns</p><tr><th>1</th><td>2019-04-26 12:26:10</td><td>16</td><td>computed</td><td>126.29</td><td></td></tr><tr><th>2</th><td>2019-04-26 12:28:16</td><td>32</td><td>computed</td><td>111.373</td><td></td></tr><tr><th>3</th><td>2019-04-26 12:30:08</td><td>64</td><td>computed</td><td>101.213</td><td></td></tr><tr><th>4</th><td>2019-04-26 12:31:49</td><td>16</td><td>memory and file</td><td>9.427</td><td></td></tr><tr><th>5</th><td>2019-04-26 12:31:58</td><td>32</td><td>memory and file</td><td>10.253</td><td></td></tr><tr><th>6</th><td>2019-04-26 12:32:09</td><td>64</td><td>memory and file</td><td>10.16</td><td></td></tr><tr><th>7</th><td></td><td>6</td><td></td><td>0.0</td><td>new</td></tr><tr><th>8</th><td>454</td><td>6</td><td></td><td>0.0</td><td>i</td></tr></tbody></table>"
      ],
      "text/latex": [
       "\\begin{tabular}{r|ccccc}\n",
       "\t& datetime & block size & comment & time & new0\\\\\n",
       "\t\\hline\n",
       "\t& String & Int64 & String & Float64 & Any\\\\\n",
       "\t\\hline\n",
       "\t1 & 2019-04-26 12:26:10 & 16 & computed & 126.29 &  \\\\\n",
       "\t2 & 2019-04-26 12:28:16 & 32 & computed & 111.373 &  \\\\\n",
       "\t3 & 2019-04-26 12:30:08 & 64 & computed & 101.213 &  \\\\\n",
       "\t4 & 2019-04-26 12:31:49 & 16 & memory and file & 9.427 &  \\\\\n",
       "\t5 & 2019-04-26 12:31:58 & 32 & memory and file & 10.253 &  \\\\\n",
       "\t6 & 2019-04-26 12:32:09 & 64 & memory and file & 10.16 &  \\\\\n",
       "\t7 &  & 6 &  & 0.0 & new \\\\\n",
       "\t8 & 454 & 6 &  & 0.0 & i \\\\\n",
       "\\end{tabular}\n"
      ],
      "text/plain": [
       "8×5 DataFrame\n",
       "│ Row │ datetime            │ block size │ comment         │ time    │ new0 │\n",
       "│     │ \u001b[90mString\u001b[39m              │ \u001b[90mInt64\u001b[39m      │ \u001b[90mString\u001b[39m          │ \u001b[90mFloat64\u001b[39m │ \u001b[90mAny\u001b[39m  │\n",
       "├─────┼─────────────────────┼────────────┼─────────────────┼─────────┼──────┤\n",
       "│ 1   │ 2019-04-26 12:26:10 │ 16         │ computed        │ 126.29  │      │\n",
       "│ 2   │ 2019-04-26 12:28:16 │ 32         │ computed        │ 111.373 │      │\n",
       "│ 3   │ 2019-04-26 12:30:08 │ 64         │ computed        │ 101.213 │      │\n",
       "│ 4   │ 2019-04-26 12:31:49 │ 16         │ memory and file │ 9.427   │      │\n",
       "│ 5   │ 2019-04-26 12:31:58 │ 32         │ memory and file │ 10.253  │      │\n",
       "│ 6   │ 2019-04-26 12:32:09 │ 64         │ memory and file │ 10.16   │      │\n",
       "│ 7   │                     │ 6          │                 │ 0.0     │ new  │\n",
       "│ 8   │ 454                 │ 6          │                 │ 0.0     │ i    │"
      ]
     },
     "execution_count": 38,
     "metadata": {},
     "output_type": "execute_result"
    }
   ],
   "source": [
    "push!(tbl, Dict(:datetime => \"454\", Symbol(\"block size\") => 6, :comment => \"\", :time => 0.0, Symbol(\"new0\") => \"i\"))"
   ]
  },
  {
   "cell_type": "code",
   "execution_count": null,
   "metadata": {},
   "outputs": [],
   "source": []
  },
  {
   "cell_type": "code",
   "execution_count": 39,
   "metadata": {},
   "outputs": [
    {
     "data": {
      "text/plain": [
       "false"
      ]
     },
     "execution_count": 39,
     "metadata": {},
     "output_type": "execute_result"
    }
   ],
   "source": [
    "eltype(tbl.datetime)<:Number"
   ]
  },
  {
   "cell_type": "code",
   "execution_count": 40,
   "metadata": {},
   "outputs": [],
   "source": [
    "# tbl[:new3] = [1,2,3,4,5,6]"
   ]
  },
  {
   "cell_type": "code",
   "execution_count": 41,
   "metadata": {},
   "outputs": [],
   "source": [
    "# tbl[Symbol(\"s sa dskj\")] = 1:6"
   ]
  },
  {
   "cell_type": "code",
   "execution_count": 42,
   "metadata": {},
   "outputs": [
    {
     "data": {
      "text/html": [
       "<table class=\"data-frame\"><thead><tr><th></th><th>datetime</th><th>block size</th><th>comment</th><th>time</th><th>new0</th></tr><tr><th></th><th>String</th><th>Int64</th><th>String</th><th>Float64</th><th>Any</th></tr></thead><tbody><p>8 rows × 5 columns</p><tr><th>1</th><td>2019-04-26 12:26:10</td><td>16</td><td>computed</td><td>126.29</td><td></td></tr><tr><th>2</th><td>2019-04-26 12:28:16</td><td>32</td><td>computed</td><td>111.373</td><td></td></tr><tr><th>3</th><td>2019-04-26 12:30:08</td><td>64</td><td>computed</td><td>101.213</td><td></td></tr><tr><th>4</th><td>2019-04-26 12:31:49</td><td>16</td><td>memory and file</td><td>9.427</td><td></td></tr><tr><th>5</th><td>2019-04-26 12:31:58</td><td>32</td><td>memory and file</td><td>10.253</td><td></td></tr><tr><th>6</th><td>2019-04-26 12:32:09</td><td>64</td><td>memory and file</td><td>10.16</td><td></td></tr><tr><th>7</th><td></td><td>6</td><td></td><td>0.0</td><td>new</td></tr><tr><th>8</th><td>454</td><td>6</td><td></td><td>0.0</td><td>i</td></tr></tbody></table>"
      ],
      "text/latex": [
       "\\begin{tabular}{r|ccccc}\n",
       "\t& datetime & block size & comment & time & new0\\\\\n",
       "\t\\hline\n",
       "\t& String & Int64 & String & Float64 & Any\\\\\n",
       "\t\\hline\n",
       "\t1 & 2019-04-26 12:26:10 & 16 & computed & 126.29 &  \\\\\n",
       "\t2 & 2019-04-26 12:28:16 & 32 & computed & 111.373 &  \\\\\n",
       "\t3 & 2019-04-26 12:30:08 & 64 & computed & 101.213 &  \\\\\n",
       "\t4 & 2019-04-26 12:31:49 & 16 & memory and file & 9.427 &  \\\\\n",
       "\t5 & 2019-04-26 12:31:58 & 32 & memory and file & 10.253 &  \\\\\n",
       "\t6 & 2019-04-26 12:32:09 & 64 & memory and file & 10.16 &  \\\\\n",
       "\t7 &  & 6 &  & 0.0 & new \\\\\n",
       "\t8 & 454 & 6 &  & 0.0 & i \\\\\n",
       "\\end{tabular}\n"
      ],
      "text/plain": [
       "8×5 DataFrame\n",
       "│ Row │ datetime            │ block size │ comment         │ time    │ new0 │\n",
       "│     │ \u001b[90mString\u001b[39m              │ \u001b[90mInt64\u001b[39m      │ \u001b[90mString\u001b[39m          │ \u001b[90mFloat64\u001b[39m │ \u001b[90mAny\u001b[39m  │\n",
       "├─────┼─────────────────────┼────────────┼─────────────────┼─────────┼──────┤\n",
       "│ 1   │ 2019-04-26 12:26:10 │ 16         │ computed        │ 126.29  │      │\n",
       "│ 2   │ 2019-04-26 12:28:16 │ 32         │ computed        │ 111.373 │      │\n",
       "│ 3   │ 2019-04-26 12:30:08 │ 64         │ computed        │ 101.213 │      │\n",
       "│ 4   │ 2019-04-26 12:31:49 │ 16         │ memory and file │ 9.427   │      │\n",
       "│ 5   │ 2019-04-26 12:31:58 │ 32         │ memory and file │ 10.253  │      │\n",
       "│ 6   │ 2019-04-26 12:32:09 │ 64         │ memory and file │ 10.16   │      │\n",
       "│ 7   │                     │ 6          │                 │ 0.0     │ new  │\n",
       "│ 8   │ 454                 │ 6          │                 │ 0.0     │ i    │"
      ]
     },
     "execution_count": 42,
     "metadata": {},
     "output_type": "execute_result"
    }
   ],
   "source": [
    "tbl"
   ]
  },
  {
   "cell_type": "code",
   "execution_count": 43,
   "metadata": {},
   "outputs": [
    {
     "data": {
      "text/html": [
       "<table class=\"data-frame\"><thead><tr><th></th><th>A</th><th>B</th></tr><tr><th></th><th>Int64</th><th>String</th></tr></thead><tbody><p>2 rows × 2 columns</p><tr><th>1</th><td>2</td><td>N</td></tr><tr><th>2</th><td>3</td><td>F</td></tr></tbody></table>"
      ],
      "text/latex": [
       "\\begin{tabular}{r|cc}\n",
       "\t& A & B\\\\\n",
       "\t\\hline\n",
       "\t& Int64 & String\\\\\n",
       "\t\\hline\n",
       "\t1 & 2 & N \\\\\n",
       "\t2 & 3 & F \\\\\n",
       "\\end{tabular}\n"
      ],
      "text/plain": [
       "2×2 DataFrame\n",
       "│ Row │ A     │ B      │\n",
       "│     │ \u001b[90mInt64\u001b[39m │ \u001b[90mString\u001b[39m │\n",
       "├─────┼───────┼────────┤\n",
       "│ 1   │ 2     │ N      │\n",
       "│ 2   │ 3     │ F      │"
      ]
     },
     "execution_count": 43,
     "metadata": {},
     "output_type": "execute_result"
    }
   ],
   "source": [
    "df = DataFrame(A = Int[], B = String[])\n",
    "push!(df, [2, \"N\"])\n",
    "push!(df, Dict(:B => \"F\", :A => 3))"
   ]
  },
  {
   "cell_type": "markdown",
   "metadata": {},
   "source": [
    "# All in one piece"
   ]
  },
  {
   "cell_type": "code",
   "execution_count": null,
   "metadata": {},
   "outputs": [],
   "source": []
  },
  {
   "cell_type": "code",
   "execution_count": 56,
   "metadata": {},
   "outputs": [
    {
     "data": {
      "text/plain": [
       "DataFrame"
      ]
     },
     "metadata": {},
     "output_type": "display_data"
    },
    {
     "data": {
      "text/html": [
       "<table class=\"data-frame\"><thead><tr><th></th><th>datetime</th><th>block size</th><th>comment</th><th>time</th></tr><tr><th></th><th>String</th><th>Int64</th><th>String</th><th>Float64</th></tr></thead><tbody><p>6 rows × 4 columns</p><tr><th>1</th><td>2019-04-26 12:26:10</td><td>16</td><td>computed</td><td>126.29</td></tr><tr><th>2</th><td>2019-04-26 12:28:16</td><td>32</td><td>computed</td><td>111.373</td></tr><tr><th>3</th><td>2019-04-26 12:30:08</td><td>64</td><td>computed</td><td>101.213</td></tr><tr><th>4</th><td>2019-04-26 12:31:49</td><td>16</td><td>memory and file</td><td>9.427</td></tr><tr><th>5</th><td>2019-04-26 12:31:58</td><td>32</td><td>memory and file</td><td>10.253</td></tr><tr><th>6</th><td>2019-04-26 12:32:09</td><td>64</td><td>memory and file</td><td>10.16</td></tr></tbody></table>"
      ],
      "text/latex": [
       "\\begin{tabular}{r|cccc}\n",
       "\t& datetime & block size & comment & time\\\\\n",
       "\t\\hline\n",
       "\t& String & Int64 & String & Float64\\\\\n",
       "\t\\hline\n",
       "\t1 & 2019-04-26 12:26:10 & 16 & computed & 126.29 \\\\\n",
       "\t2 & 2019-04-26 12:28:16 & 32 & computed & 111.373 \\\\\n",
       "\t3 & 2019-04-26 12:30:08 & 64 & computed & 101.213 \\\\\n",
       "\t4 & 2019-04-26 12:31:49 & 16 & memory and file & 9.427 \\\\\n",
       "\t5 & 2019-04-26 12:31:58 & 32 & memory and file & 10.253 \\\\\n",
       "\t6 & 2019-04-26 12:32:09 & 64 & memory and file & 10.16 \\\\\n",
       "\\end{tabular}\n"
      ],
      "text/plain": [
       "6×4 DataFrame\n",
       "│ Row │ datetime            │ block size │ comment         │ time    │\n",
       "│     │ \u001b[90mString\u001b[39m              │ \u001b[90mInt64\u001b[39m      │ \u001b[90mString\u001b[39m          │ \u001b[90mFloat64\u001b[39m │\n",
       "├─────┼─────────────────────┼────────────┼─────────────────┼─────────┤\n",
       "│ 1   │ 2019-04-26 12:26:10 │ 16         │ computed        │ 126.29  │\n",
       "│ 2   │ 2019-04-26 12:28:16 │ 32         │ computed        │ 111.373 │\n",
       "│ 3   │ 2019-04-26 12:30:08 │ 64         │ computed        │ 101.213 │\n",
       "│ 4   │ 2019-04-26 12:31:49 │ 16         │ memory and file │ 9.427   │\n",
       "│ 5   │ 2019-04-26 12:31:58 │ 32         │ memory and file │ 10.253  │\n",
       "│ 6   │ 2019-04-26 12:32:09 │ 64         │ memory and file │ 10.16   │"
      ]
     },
     "metadata": {},
     "output_type": "display_data"
    }
   ],
   "source": [
    "to_add = Dict()\n",
    "to_add[\"block size\"] = 6\n",
    "to_add[\"new0\"] = \"new\"\n",
    "\n",
    "tbl = CSV.read(\"../data2.csv\")\n",
    "display(typeof(tbl))\n",
    "display(tbl)"
   ]
  },
  {
   "cell_type": "code",
   "execution_count": 57,
   "metadata": {},
   "outputs": [
    {
     "data": {
      "text/html": [
       "<table class=\"data-frame\"><thead><tr><th></th><th>datetime</th><th>block size</th><th>comment</th><th>time</th><th>new0</th></tr><tr><th></th><th>String</th><th>Int64</th><th>String</th><th>Float64</th><th>Any</th></tr></thead><tbody><p>7 rows × 5 columns</p><tr><th>1</th><td>2019-04-26 12:26:10</td><td>16</td><td>computed</td><td>126.29</td><td>NA</td></tr><tr><th>2</th><td>2019-04-26 12:28:16</td><td>32</td><td>computed</td><td>111.373</td><td>NA</td></tr><tr><th>3</th><td>2019-04-26 12:30:08</td><td>64</td><td>computed</td><td>101.213</td><td>NA</td></tr><tr><th>4</th><td>2019-04-26 12:31:49</td><td>16</td><td>memory and file</td><td>9.427</td><td>NA</td></tr><tr><th>5</th><td>2019-04-26 12:31:58</td><td>32</td><td>memory and file</td><td>10.253</td><td>NA</td></tr><tr><th>6</th><td>2019-04-26 12:32:09</td><td>64</td><td>memory and file</td><td>10.16</td><td>NA</td></tr><tr><th>7</th><td></td><td>6</td><td></td><td>0.0</td><td>new</td></tr></tbody></table>"
      ],
      "text/latex": [
       "\\begin{tabular}{r|ccccc}\n",
       "\t& datetime & block size & comment & time & new0\\\\\n",
       "\t\\hline\n",
       "\t& String & Int64 & String & Float64 & Any\\\\\n",
       "\t\\hline\n",
       "\t1 & 2019-04-26 12:26:10 & 16 & computed & 126.29 & NA \\\\\n",
       "\t2 & 2019-04-26 12:28:16 & 32 & computed & 111.373 & NA \\\\\n",
       "\t3 & 2019-04-26 12:30:08 & 64 & computed & 101.213 & NA \\\\\n",
       "\t4 & 2019-04-26 12:31:49 & 16 & memory and file & 9.427 & NA \\\\\n",
       "\t5 & 2019-04-26 12:31:58 & 32 & memory and file & 10.253 & NA \\\\\n",
       "\t6 & 2019-04-26 12:32:09 & 64 & memory and file & 10.16 & NA \\\\\n",
       "\t7 &  & 6 &  & 0.0 & new \\\\\n",
       "\\end{tabular}\n"
      ],
      "text/plain": [
       "7×5 DataFrame\n",
       "│ Row │ datetime            │ block size │ comment         │ time    │ new0 │\n",
       "│     │ \u001b[90mString\u001b[39m              │ \u001b[90mInt64\u001b[39m      │ \u001b[90mString\u001b[39m          │ \u001b[90mFloat64\u001b[39m │ \u001b[90mAny\u001b[39m  │\n",
       "├─────┼─────────────────────┼────────────┼─────────────────┼─────────┼──────┤\n",
       "│ 1   │ 2019-04-26 12:26:10 │ 16         │ computed        │ 126.29  │ NA   │\n",
       "│ 2   │ 2019-04-26 12:28:16 │ 32         │ computed        │ 111.373 │ NA   │\n",
       "│ 3   │ 2019-04-26 12:30:08 │ 64         │ computed        │ 101.213 │ NA   │\n",
       "│ 4   │ 2019-04-26 12:31:49 │ 16         │ memory and file │ 9.427   │ NA   │\n",
       "│ 5   │ 2019-04-26 12:31:58 │ 32         │ memory and file │ 10.253  │ NA   │\n",
       "│ 6   │ 2019-04-26 12:32:09 │ 64         │ memory and file │ 10.16   │ NA   │\n",
       "│ 7   │                     │ 6          │                 │ 0.0     │ new  │"
      ]
     },
     "metadata": {},
     "output_type": "display_data"
    },
    {
     "data": {
      "text/plain": [
       "\"new_data.csv\""
      ]
     },
     "execution_count": 57,
     "metadata": {},
     "output_type": "execute_result"
    }
   ],
   "source": [
    "tbl = DataFrame(tbl)\n",
    "add_missing_cols!(tbl, to_add)\n",
    "new_row = prepare_empty_row(tbl)\n",
    "new_to_add = dict_string_keys_to_symbols(to_add)\n",
    "merge!(new_row, new_to_add)\n",
    "push!(tbl, new_row)\n",
    "display(tbl)\n",
    "CSV.write(\"new_data.csv\", tbl)"
   ]
  }
 ],
 "metadata": {
  "@webio": {
   "lastCommId": null,
   "lastKernelId": null
  },
  "kernelspec": {
   "display_name": "Julia 1.1.0",
   "language": "julia",
   "name": "julia-1.1"
  },
  "language_info": {
   "file_extension": ".jl",
   "mimetype": "application/julia",
   "name": "julia",
   "version": "1.1.0"
  },
  "toc": {
   "base_numbering": 1,
   "nav_menu": {},
   "number_sections": true,
   "sideBar": true,
   "skip_h1_title": false,
   "title_cell": "Table of Contents",
   "title_sidebar": "Contents",
   "toc_cell": false,
   "toc_position": {},
   "toc_section_display": true,
   "toc_window_display": true
  }
 },
 "nbformat": 4,
 "nbformat_minor": 2
}
